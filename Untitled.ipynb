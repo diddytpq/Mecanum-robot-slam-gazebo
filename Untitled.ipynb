{
 "cells": [
  {
   "cell_type": "code",
   "execution_count": 1,
   "id": "5b6637e5",
   "metadata": {},
   "outputs": [],
   "source": [
    "import rospy\n",
    "\n",
    "import numpy as np\n",
    "import matplotlib.pyplot as plt\n",
    "from time import perf_counter\n",
    "\n",
    "import sys\n",
    "\n",
    "SCRIPTS_PATH = 'src/mecanum_robot_slam/src/ros_slam_python/'\n",
    "MAPS_PATH = '/home/workspace/Mecanum-robot-slam-gazebo/src/mecanum_robot_slam/maps'\n",
    "sys.path.insert(0, SCRIPTS_PATH)\n",
    "\n",
    "from src.mecanum_robot_slam.src.ros_slam_python.grid_map import *\n",
    "from src.mecanum_robot_slam.src.ros_slam_python.utils import *\n",
    "from src.mecanum_robot_slam.src.ros_slam_python.bresenham import *\n",
    "\n",
    "P_prior = 0.5\t# Prior occupancy probability\n",
    "P_occ = 0.9\t# Probability that cell is occupied with total confidence\n",
    "P_free = 0.3\t# Probability that cell is free with total confidence \n",
    "\n",
    "RESOLUTION = 0.02 # Grid resolution in [m]\n",
    "\n",
    "MAP_NAME  = 'test' # map name without extension"
   ]
  },
  {
   "cell_type": "code",
   "execution_count": 2,
   "id": "34ca6e12",
   "metadata": {},
   "outputs": [],
   "source": [
    "map_x_lim = [-20, 20]\n",
    "map_y_lim = [-20, 20]\n",
    "\n",
    "map_x_lim = [-10, 10]\n",
    "map_y_lim = [-10, 10]\n",
    "\n"
   ]
  },
  {
   "cell_type": "code",
   "execution_count": 3,
   "id": "eb2d4298",
   "metadata": {},
   "outputs": [],
   "source": [
    "rospy.init_node('gmapping_node', anonymous = False)\n",
    "rate = rospy.Rate(10)\n",
    "\n",
    "# Create grid map \n",
    "gridMap = GridMap(X_lim = map_x_lim, \n",
    "            Y_lim = map_y_lim, \n",
    "            resolution = RESOLUTION, \n",
    "            p = P_prior)"
   ]
  },
  {
   "cell_type": "code",
   "execution_count": 4,
   "id": "13471eef",
   "metadata": {},
   "outputs": [
    {
     "data": {
      "text/plain": [
       "0.0"
      ]
     },
     "execution_count": 4,
     "metadata": {},
     "output_type": "execute_result"
    }
   ],
   "source": [
    "gridMap.l.shape\n",
    "np.min(gridMap.l)"
   ]
  },
  {
   "cell_type": "code",
   "execution_count": 5,
   "id": "63ed071b",
   "metadata": {},
   "outputs": [],
   "source": [
    "msgScan = rospy.wait_for_message('/scan', LaserScan)\n",
    "distances, angles, information = lidar_scan(msgScan) \n",
    "\n",
    "msgOdom = rospy.wait_for_message('/odom', Odometry)\n",
    "x_odom, y_odom = get_odom_position(msgOdom)   # x,y in [m]\n",
    "theta_odom = get_odom_orientation(msgOdom)    # theta in [radians]"
   ]
  },
  {
   "cell_type": "code",
   "execution_count": 6,
   "id": "626bbc4e",
   "metadata": {},
   "outputs": [],
   "source": [
    "distances_x, distances_y = lidar_scan_xy(distances, angles, x_odom, y_odom, theta_odom)"
   ]
  },
  {
   "cell_type": "code",
   "execution_count": 7,
   "id": "de108328",
   "metadata": {},
   "outputs": [
    {
     "data": {
      "image/png": "[encoded data removed]",
      "text/plain": [
       "<Figure size 432x288 with 1 Axes>"
      ]
     },
     "metadata": {
      "needs_background": "light"
     },
     "output_type": "display_data"
    }
   ],
   "source": [
    "# for i in zip(distances_x, distances_y):\n",
    "#     print(i)\n",
    "\n",
    "import matplotlib.pyplot as plt\n",
    "\n",
    "plt.scatter(distances_x, distances_y)\n",
    "\n",
    "plt.show()\n"
   ]
  },
  {
   "cell_type": "code",
   "execution_count": 8,
   "id": "ae595fec",
   "metadata": {},
   "outputs": [
    {
     "name": "stdout",
     "output_type": "stream",
     "text": [
      "350 550\n"
     ]
    }
   ],
   "source": [
    "x1, y1 = gridMap.discretize(x_odom, y_odom)\n",
    "\n",
    "print(x1, y1)"
   ]
  },
  {
   "cell_type": "code",
   "execution_count": 9,
   "id": "17af74df",
   "metadata": {},
   "outputs": [],
   "source": [
    "X2 = []\n",
    "Y2 = []\n",
    "for (dist_x, dist_y, dist) in zip(distances_x, distances_y, distances):\n",
    "\n",
    "    # x2 and y2 for Bresenham's algorithm\n",
    "    x2, y2 = gridMap.discretize(dist_x, dist_y)\n",
    "\n",
    "    # draw a discrete line of free pixels, [robot position -> laser hit spot)\n",
    "    for (x_bres, y_bres) in bresenham(gridMap, x1, y1, x2, y2):\n",
    "\n",
    "        gridMap.update(x = x_bres, y = y_bres, p = P_free)\n",
    "\n",
    "    # mark laser hit spot as ocuppied (if exists)\n",
    "    if dist < msgScan.range_max:\n",
    "        \n",
    "        gridMap.update(x = x2, y = y2, p = P_occ)\n",
    "\n",
    "    # for BGR image of the grid map\n",
    "    X2.append(x2)\n",
    "    Y2.append(y2)\n"
   ]
  },
  {
   "cell_type": "code",
   "execution_count": null,
   "id": "5fe0be83",
   "metadata": {},
   "outputs": [],
   "source": [
    "def numpy_to_occupancy_grid(arr, info=None):\n",
    "\n",
    "    arr = np.int8(arr)\n",
    "    \n",
    "    if not len(arr.shape) == 2:\n",
    "        raise TypeError('Array must be 2D')\n",
    "    if not arr.dtype == np.int8:\n",
    "        raise TypeError('Array must be of int8s')\n",
    "\n",
    "    grid = OccupancyGrid()\n",
    "    if isinstance(arr, np.ma.MaskedArray):\n",
    "        # We assume that the masked value are already -1, for speed\n",
    "        arr = arr.data\n",
    "    grid.data = arr.ravel()\n",
    "    grid.info = info or MapMetaData()\n",
    "    grid.info.height = arr.shape[0]\n",
    "    grid.info.width = arr.shape[1]\n",
    "\n",
    "    return grid"
   ]
  },
  {
   "cell_type": "code",
   "execution_count": 10,
   "id": "2825156d",
   "metadata": {},
   "outputs": [
    {
     "ename": "TypeError",
     "evalue": "Array must be of int8s",
     "output_type": "error",
     "traceback": [
      "\u001b[0;31m---------------------------------------------------------------------------\u001b[0m",
      "\u001b[0;31mTypeError\u001b[0m                                 Traceback (most recent call last)",
      "\u001b[0;32m/tmp/ipykernel_59930/363543845.py\u001b[0m in \u001b[0;36m<module>\u001b[0;34m\u001b[0m\n\u001b[0;32m----> 1\u001b[0;31m \u001b[0mmap\u001b[0m \u001b[0;34m=\u001b[0m \u001b[0mgridMap\u001b[0m\u001b[0;34m.\u001b[0m\u001b[0mnumpy_to_occupancy_grid\u001b[0m\u001b[0;34m(\u001b[0m\u001b[0;34m)\u001b[0m\u001b[0;34m\u001b[0m\u001b[0;34m\u001b[0m\u001b[0m\n\u001b[0m",
      "\u001b[0;32m~/workspace/Mecanum-robot-slam-gazebo/src/mecanum_robot_slam/src/ros_slam_python/grid_map.py\u001b[0m in \u001b[0;36mnumpy_to_occupancy_grid\u001b[0;34m(self, info)\u001b[0m\n\u001b[1;32m    182\u001b[0m             \u001b[0;32mraise\u001b[0m \u001b[0mTypeError\u001b[0m\u001b[0;34m(\u001b[0m\u001b[0;34m'Array must be 2D'\u001b[0m\u001b[0;34m)\u001b[0m\u001b[0;34m\u001b[0m\u001b[0;34m\u001b[0m\u001b[0m\n\u001b[1;32m    183\u001b[0m         \u001b[0;32mif\u001b[0m \u001b[0;32mnot\u001b[0m \u001b[0marr\u001b[0m\u001b[0;34m.\u001b[0m\u001b[0mdtype\u001b[0m \u001b[0;34m==\u001b[0m \u001b[0mnp\u001b[0m\u001b[0;34m.\u001b[0m\u001b[0mint8\u001b[0m\u001b[0;34m:\u001b[0m\u001b[0;34m\u001b[0m\u001b[0;34m\u001b[0m\u001b[0m\n\u001b[0;32m--> 184\u001b[0;31m             \u001b[0;32mraise\u001b[0m \u001b[0mTypeError\u001b[0m\u001b[0;34m(\u001b[0m\u001b[0;34m'Array must be of int8s'\u001b[0m\u001b[0;34m)\u001b[0m\u001b[0;34m\u001b[0m\u001b[0;34m\u001b[0m\u001b[0m\n\u001b[0m\u001b[1;32m    185\u001b[0m \u001b[0;34m\u001b[0m\u001b[0m\n\u001b[1;32m    186\u001b[0m         \u001b[0mgrid\u001b[0m \u001b[0;34m=\u001b[0m \u001b[0mOccupancyGrid\u001b[0m\u001b[0;34m(\u001b[0m\u001b[0;34m)\u001b[0m\u001b[0;34m\u001b[0m\u001b[0;34m\u001b[0m\u001b[0m\n",
      "\u001b[0;31mTypeError\u001b[0m: Array must be of int8s"
     ]
    }
   ],
   "source": [
    "map = gridMap.numpy_to_occupancy_grid()"
   ]
  },
  {
   "cell_type": "code",
   "execution_count": 11,
   "id": "6022a76f",
   "metadata": {},
   "outputs": [
    {
     "data": {
      "text/plain": [
       "(1001, 1001)"
      ]
     },
     "execution_count": 11,
     "metadata": {},
     "output_type": "execute_result"
    }
   ],
   "source": [
    "map.shape"
   ]
  },
  {
   "cell_type": "code",
   "execution_count": 12,
   "id": "05375e36",
   "metadata": {},
   "outputs": [
    {
     "data": {
      "text/plain": [
       "array([[-1., -1., -1., ..., -1., -1., -1.],\n",
       "       [-1., -1., -1., ..., -1., -1., -1.],\n",
       "       [-1., -1., -1., ..., -1., -1., -1.],\n",
       "       ...,\n",
       "       [-1., -1., -1., ..., -1., -1., -1.],\n",
       "       [-1., -1., -1., ..., -1., -1., -1.],\n",
       "       [-1., -1., -1., ..., -1., -1., -1.]])"
      ]
     },
     "execution_count": 12,
     "metadata": {},
     "output_type": "execute_result"
    }
   ],
   "source": [
    "map"
   ]
  },
  {
   "cell_type": "code",
   "execution_count": 15,
   "id": "50529b3e",
   "metadata": {},
   "outputs": [
    {
     "data": {
      "text/plain": [
       "-0.8472978603872036"
      ]
     },
     "execution_count": 15,
     "metadata": {},
     "output_type": "execute_result"
    }
   ],
   "source": [
    "log_odds(0.3)"
   ]
  },
  {
   "cell_type": "code",
   "execution_count": 14,
   "id": "f746a11e",
   "metadata": {},
   "outputs": [],
   "source": [
    "def log_odds(p):\n",
    "    \"\"\"\n",
    "    Log odds ratio of p(x):\n",
    "            p(x)\n",
    "    l(x) = log ----------\n",
    "            1 - p(x)\n",
    "    \"\"\"\n",
    "    return np.log(p / (1 - p))\n",
    "\n"
   ]
  },
  {
   "cell_type": "code",
   "execution_count": null,
   "id": "106218f2",
   "metadata": {},
   "outputs": [],
   "source": []
  }
 ],
 "metadata": {
  "kernelspec": {
   "display_name": "Python 3 (ipykernel)",
   "language": "python",
   "name": "python3"
  },
  "language_info": {
   "codemirror_mode": {
    "name": "ipython",
    "version": 3
   },
   "file_extension": ".py",
   "mimetype": "text/x-python",
   "name": "python",
   "nbconvert_exporter": "python",
   "pygments_lexer": "ipython3",
   "version": "3.7.11"
  }
 },
 "nbformat": 4,
 "nbformat_minor": 5
}
